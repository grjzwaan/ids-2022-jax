{
 "cells": [
  {
   "cell_type": "markdown",
   "id": "9320a4cc",
   "metadata": {},
   "source": [
    "# Need for Speed \n",
    "This notebook is a short example on how easy it can be to parallelize and speed up computations. It is meant as a supplement to a talk given at the [Insurance Data Science Conference](https://insurancedatascience.org/)."
   ]
  },
  {
   "cell_type": "code",
   "execution_count": 237,
   "id": "224ac704",
   "metadata": {},
   "outputs": [],
   "source": [
    "import numpy as np\n",
    "import jax\n",
    "import jax.numpy as jnp\n",
    "import matplotlib.pyplot as plt\n",
    "from functools import partial\n",
    "from typing import Callable, Tuple, Any\n",
    "from numpy.typing import NDArray"
   ]
  },
  {
   "cell_type": "markdown",
   "id": "8ef02f74",
   "metadata": {},
   "source": [
    "We use a simplied example where there is a stochastic rate and we value a cashflow of $1$ at time $t$ with a certain rate that we have to find with an optimization algorithm (Newton-Raphson)."
   ]
  },
  {
   "cell_type": "code",
   "execution_count": 228,
   "id": "fa68d2dd",
   "metadata": {},
   "outputs": [],
   "source": [
    "N = 100  # Number of parallel paths\n",
    "T = 120  # Number of timesteps"
   ]
  },
  {
   "cell_type": "code",
   "execution_count": 229,
   "id": "e3fa87c7",
   "metadata": {},
   "outputs": [],
   "source": [
    "key = jax.random.PRNGKey(1)\n",
    "rates = np.cumsum(jax.random.normal(key, shape=(N, T)), axis=1)/100"
   ]
  },
  {
   "cell_type": "markdown",
   "id": "71e768d0",
   "metadata": {},
   "source": [
    "Define a Newton-Raphson minimizer for an arbitrary function. Note that Jax differentiates the function automatically."
   ]
  },
  {
   "cell_type": "code",
   "execution_count": 230,
   "id": "b0c066b0",
   "metadata": {},
   "outputs": [],
   "source": [
    "def minimize(f: Callable[[float], float], x0: float) -> float:\n",
    "    \"\"\"Minimize a function f with Newton-Raphson, starting at x0\"\"\"\n",
    "    df = jax.grad(f)  # Get the gradient\n",
    "    \n",
    "    def step(i: int, x: float):\n",
    "        \"\"\"Single optimization step\"\"\"\n",
    "        x = x - 1e-2 * df(x)\n",
    "        return x\n",
    "    \n",
    "    # Apply the loop and return after 100 steps\n",
    "    return jax.lax.fori_loop(0, 1000, step, x0)\n",
    "\n",
    "assert np.isclose(1., minimize(lambda x: (x-1)**2, 5.), 0.1)"
   ]
  },
  {
   "cell_type": "code",
   "execution_count": 231,
   "id": "6051441d",
   "metadata": {},
   "outputs": [
    {
     "name": "stdout",
     "output_type": "stream",
     "text": [
      "31.4 ms ± 957 µs per loop (mean ± std. dev. of 7 runs, 10 loops each)\n"
     ]
    }
   ],
   "source": [
    "%timeit  minimize(lambda x: (x-1)**2, 5.).block_until_ready()"
   ]
  },
  {
   "cell_type": "code",
   "execution_count": 232,
   "id": "23a03787",
   "metadata": {},
   "outputs": [
    {
     "data": {
      "text/plain": [
       "DeviceArray(1.0000029, dtype=float32, weak_type=True)"
      ]
     },
     "execution_count": 232,
     "metadata": {},
     "output_type": "execute_result"
    }
   ],
   "source": [
    "minimize_specific = jax.jit(partial(minimize, lambda x: (x-1)**2))\n",
    "minimize_specific(5.)"
   ]
  },
  {
   "cell_type": "code",
   "execution_count": 233,
   "id": "88ff1583",
   "metadata": {},
   "outputs": [
    {
     "name": "stdout",
     "output_type": "stream",
     "text": [
      "6.74 µs ± 33.7 ns per loop (mean ± std. dev. of 7 runs, 100,000 loops each)\n"
     ]
    }
   ],
   "source": [
    "%timeit minimize_specific(5.).block_until_ready()"
   ]
  },
  {
   "cell_type": "markdown",
   "id": "d545b265",
   "metadata": {},
   "source": [
    "We keep the logic very simple in a function that calculates the value for a single timestep, and then a function that computes all values for a single scenario."
   ]
  },
  {
   "cell_type": "code",
   "execution_count": 241,
   "id": "b0e53af5",
   "metadata": {},
   "outputs": [],
   "source": [
    "def value_timestep(t: int, rate: NDArray[float]) -> Tuple[int, float]:\n",
    "    \"\"\"A function that values at time t for a given rate. For the output see jax.lax.scan. \"\"\"\n",
    "    t+=1  # Increase the iteration counter\n",
    "    value = jnp.exp(rate * (T-t))  # Discount with the rate for the remaining timesteps.\n",
    "    return t, value\n",
    "\n",
    "def value_single_path(rates: NDArray[np.float64]) -> NDArray[float]:\n",
    "    \"\"\"Apply a Jax-primitive to scan along the first axis of rates and pass these values one-by-one to the function. \"\"\"\n",
    "    _, values = jax.lax.scan(\n",
    "        value_timestep,\n",
    "        init=0,\n",
    "        xs=rates\n",
    "    )\n",
    "\n",
    "    return values"
   ]
  },
  {
   "cell_type": "markdown",
   "id": "069f9738",
   "metadata": {},
   "source": [
    "Parallelizing is extremely easy, we just apply `vmap` which parallelizes over the first axis (our scenarios 1...N)"
   ]
  },
  {
   "cell_type": "code",
   "execution_count": 242,
   "id": "a0026c02",
   "metadata": {},
   "outputs": [],
   "source": [
    "value_all_paths = jax.vmap(value_single_path)\n",
    "values = value_all_paths(rates)"
   ]
  },
  {
   "cell_type": "code",
   "execution_count": 243,
   "id": "0b8d8d3f",
   "metadata": {},
   "outputs": [
    {
     "name": "stdout",
     "output_type": "stream",
     "text": [
      "642 µs ± 6.12 µs per loop (mean ± std. dev. of 7 runs, 1,000 loops each)\n"
     ]
    }
   ],
   "source": [
    "%timeit value_all_paths(rates).block_until_ready()"
   ]
  },
  {
   "cell_type": "markdown",
   "id": "28d53f56",
   "metadata": {},
   "source": [
    "Now we compile this function (If a GPU backend is missing then it compiles for the CPU) through LLVM:"
   ]
  },
  {
   "cell_type": "code",
   "execution_count": 244,
   "id": "0b455493",
   "metadata": {},
   "outputs": [],
   "source": [
    "value_all_paths_fast = jax.jit(jax.vmap(value_single_path))\n",
    "values = value_all_paths_fast(rates)"
   ]
  },
  {
   "cell_type": "code",
   "execution_count": 245,
   "id": "6ff3a43c",
   "metadata": {},
   "outputs": [
    {
     "name": "stdout",
     "output_type": "stream",
     "text": [
      "20.6 µs ± 140 ns per loop (mean ± std. dev. of 7 runs, 10,000 loops each)\n"
     ]
    }
   ],
   "source": [
    "%timeit value_all_paths_fast(rates).block_until_ready()"
   ]
  },
  {
   "cell_type": "markdown",
   "id": "36c5ce1a",
   "metadata": {},
   "source": [
    "For fun run it for 5k scenarios up to 100 year in months into the future"
   ]
  },
  {
   "cell_type": "code",
   "execution_count": 246,
   "id": "28f079f2",
   "metadata": {},
   "outputs": [],
   "source": [
    "rates_l = np.cumsum(jax.random.normal(key, shape=(5000, 1201)), axis=1)/10000"
   ]
  },
  {
   "cell_type": "code",
   "execution_count": 247,
   "id": "d2531860",
   "metadata": {},
   "outputs": [
    {
     "name": "stdout",
     "output_type": "stream",
     "text": [
      "27.5 ms ± 2.49 ms per loop (mean ± std. dev. of 7 runs, 10 loops each)\n"
     ]
    }
   ],
   "source": [
    "%timeit value_all_paths_fast(rates_l).block_until_ready()"
   ]
  },
  {
   "cell_type": "code",
   "execution_count": null,
   "id": "abf93177",
   "metadata": {},
   "outputs": [],
   "source": []
  }
 ],
 "metadata": {
  "kernelspec": {
   "display_name": "Python 3 (ipykernel)",
   "language": "python",
   "name": "python3"
  },
  "language_info": {
   "codemirror_mode": {
    "name": "ipython",
    "version": 3
   },
   "file_extension": ".py",
   "mimetype": "text/x-python",
   "name": "python",
   "nbconvert_exporter": "python",
   "pygments_lexer": "ipython3",
   "version": "3.8.10"
  }
 },
 "nbformat": 4,
 "nbformat_minor": 5
}
